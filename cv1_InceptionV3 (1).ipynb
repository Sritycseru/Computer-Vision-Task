{
  "nbformat": 4,
  "nbformat_minor": 0,
  "metadata": {
    "colab": {
      "provenance": [],
      "gpuType": "T4"
    },
    "kernelspec": {
      "name": "python3",
      "display_name": "Python 3"
    },
    "language_info": {
      "name": "python"
    },
    "accelerator": "GPU"
  },
  "cells": [
    {
      "cell_type": "markdown",
      "source": [
        "Import necessary module"
      ],
      "metadata": {
        "id": "QKY81a2wU-q4"
      }
    },
    {
      "cell_type": "code",
      "source": [
        "#prepare inputs for InceptionV3 (299x299x3) ---\n",
        "from tensorflow.keras.applications.inception_v3 import preprocess_input\n",
        "import tensorflow as tf\n",
        "\n",
        "def to_inception_input(x):\n",
        "    x = tf.convert_to_tensor(x)\n",
        "    if x.shape.rank == 3:            # single image -> add batch\n",
        "        x = tf.expand_dims(x, 0)\n",
        "    if x.shape[-1] == 1:\n",
        "        x = tf.repeat(x, repeats=3, axis=-1)\n",
        "    x = tf.image.resize(x, (299, 299))\n",
        "    x = tf.cast(x, tf.float32)\n",
        "    # InceptionV3 preprocess scales to [-1, 1]\n",
        "    return preprocess_input(x)\n",
        "\n",
        "# If you already have MNIST in x_subset (N,28,28) or (N,28,28,1), build x_subset_pp:\n",
        "# x_subset_pp = to_inception_input(x_subset)\n"
      ],
      "metadata": {
        "id": "voujX1emXtsm"
      },
      "execution_count": null,
      "outputs": []
    },
    {
      "cell_type": "code",
      "source": [
        "import numpy as np\n",
        "import matplotlib.pyplot as plt\n",
        "import tensorflow as tf\n",
        "from tensorflow.keras.datasets import mnist\n",
        "from tensorflow.keras.utils import to_categorical\n",
        "from tensorflow.keras.applications import InceptionV3\n",
        "from tensorflow.keras.models import Model\n",
        "from tensorflow.keras import layers\n",
        "from sklearn.decomposition import PCA\n",
        "from sklearn.manifold import TSNE, LocallyLinearEmbedding\n",
        "import umap.umap_ as umap"
      ],
      "metadata": {
        "id": "vH-y2YPLX4Sx"
      },
      "execution_count": null,
      "outputs": []
    },
    {
      "cell_type": "markdown",
      "source": [
        "**Load and Preprocessing MNIST**"
      ],
      "metadata": {
        "id": "E3Nuxu0OX7IN"
      }
    },
    {
      "cell_type": "code",
      "source": [
        "(trainX, trainY), _ = mnist.load_data()\n",
        "trainX = trainX.astype(\"float32\") / 255.0\n",
        "\n",
        "def preprocess_images_batch(images, batch_size=500):\n",
        "    resized = []\n",
        "    for i in range(0, len(images), batch_size):\n",
        "        batch = images[i:i+batch_size]\n",
        "        batch = tf.expand_dims(batch, -1)           # (28,28) -> (28,28,1)\n",
        "        batch = tf.image.resize(batch, (299, 299)) # resize to 224x224\n",
        "        batch = tf.image.grayscale_to_rgb(batch)   # (299, 299,1) -> (299, 299, 3)\n",
        "        resized.append(batch)\n",
        "    return tf.concat(resized, axis=0).numpy()\n",
        "\n",
        "x_subset = preprocess_images_batch(trainX[:2000])\n",
        "y_subset = trainY[:2000]\n",
        "y_subset_cat = to_categorical(y_subset, num_classes=10)"
      ],
      "metadata": {
        "id": "nrdq5VgxX-fl"
      },
      "execution_count": null,
      "outputs": []
    },
    {
      "cell_type": "markdown",
      "source": [],
      "metadata": {
        "id": "ivmIEWwqYDJ1"
      }
    },
    {
      "cell_type": "code",
      "source": [
        "base_model = InceptionV3(weights='imagenet', include_top=False, input_shape=(299, 299, 3), pooling='avg')\n",
        "base_model.trainable = False\n",
        "\n",
        "feature_extractor_before = Model(inputs=base_model.input, outputs=base_model.output)\n",
        "features_before = feature_extractor_before.predict(x_subset, batch_size=64, verbose=1)"
      ],
      "metadata": {
        "colab": {
          "base_uri": "https://localhost:8080/"
        },
        "id": "MpDulrILYDpR",
        "outputId": "fc1ff710-7e29-4f73-95b1-b70eb287a9e5"
      },
      "execution_count": null,
      "outputs": [
        {
          "output_type": "stream",
          "name": "stdout",
          "text": [
            "\u001b[1m32/32\u001b[0m \u001b[32m━━━━━━━━━━━━━━━━━━━━\u001b[0m\u001b[37m\u001b[0m \u001b[1m38s\u001b[0m 501ms/step\n"
          ]
        }
      ]
    },
    {
      "cell_type": "markdown",
      "source": [
        "Fine Tuning"
      ],
      "metadata": {
        "id": "qOU8m572YHIY"
      }
    },
    {
      "cell_type": "code",
      "source": [
        "inputs = tf.keras.Input(shape=(299, 299, 3))\n",
        "x = base_model(inputs, training=False)\n",
        "x = layers.Dense(128, activation='relu', name=\"features\")(x)\n",
        "outputs = layers.Dense(10, activation='softmax')(x)\n",
        "\n",
        "model = Model(inputs=inputs, outputs=outputs)\n",
        "model.compile(optimizer='adam', loss='categorical_crossentropy', metrics=['accuracy'])\n",
        "\n",
        "# Fine-tune on subset\n",
        "x_train_small = preprocess_images_batch(trainX[:5000])\n",
        "y_train_small = to_categorical(trainY[:5000], num_classes=10)\n",
        "\n",
        "model.fit(x_train_small, y_train_small, epochs=10, batch_size=64, validation_split=0.1)"
      ],
      "metadata": {
        "colab": {
          "base_uri": "https://localhost:8080/",
          "height": 211
        },
        "id": "wnvpCPDTYHxO",
        "outputId": "d43f110f-c510-4fba-8c06-68e07ef2407d"
      },
      "execution_count": null,
      "outputs": [
        {
          "output_type": "error",
          "ename": "NameError",
          "evalue": "name 'tf' is not defined",
          "traceback": [
            "\u001b[0;31m---------------------------------------------------------------------------\u001b[0m",
            "\u001b[0;31mNameError\u001b[0m                                 Traceback (most recent call last)",
            "\u001b[0;32m/tmp/ipython-input-2284534059.py\u001b[0m in \u001b[0;36m<cell line: 0>\u001b[0;34m()\u001b[0m\n\u001b[0;32m----> 1\u001b[0;31m \u001b[0minputs\u001b[0m \u001b[0;34m=\u001b[0m \u001b[0mtf\u001b[0m\u001b[0;34m.\u001b[0m\u001b[0mkeras\u001b[0m\u001b[0;34m.\u001b[0m\u001b[0mInput\u001b[0m\u001b[0;34m(\u001b[0m\u001b[0mshape\u001b[0m\u001b[0;34m=\u001b[0m\u001b[0;34m(\u001b[0m\u001b[0;36m299\u001b[0m\u001b[0;34m,\u001b[0m \u001b[0;36m299\u001b[0m\u001b[0;34m,\u001b[0m \u001b[0;36m3\u001b[0m\u001b[0;34m)\u001b[0m\u001b[0;34m)\u001b[0m\u001b[0;34m\u001b[0m\u001b[0;34m\u001b[0m\u001b[0m\n\u001b[0m\u001b[1;32m      2\u001b[0m \u001b[0mx\u001b[0m \u001b[0;34m=\u001b[0m \u001b[0mbase_model\u001b[0m\u001b[0;34m(\u001b[0m\u001b[0minputs\u001b[0m\u001b[0;34m,\u001b[0m \u001b[0mtraining\u001b[0m\u001b[0;34m=\u001b[0m\u001b[0;32mFalse\u001b[0m\u001b[0;34m)\u001b[0m\u001b[0;34m\u001b[0m\u001b[0;34m\u001b[0m\u001b[0m\n\u001b[1;32m      3\u001b[0m \u001b[0mx\u001b[0m \u001b[0;34m=\u001b[0m \u001b[0mlayers\u001b[0m\u001b[0;34m.\u001b[0m\u001b[0mDense\u001b[0m\u001b[0;34m(\u001b[0m\u001b[0;36m128\u001b[0m\u001b[0;34m,\u001b[0m \u001b[0mactivation\u001b[0m\u001b[0;34m=\u001b[0m\u001b[0;34m'relu'\u001b[0m\u001b[0;34m,\u001b[0m \u001b[0mname\u001b[0m\u001b[0;34m=\u001b[0m\u001b[0;34m\"features\"\u001b[0m\u001b[0;34m)\u001b[0m\u001b[0;34m(\u001b[0m\u001b[0mx\u001b[0m\u001b[0;34m)\u001b[0m\u001b[0;34m\u001b[0m\u001b[0;34m\u001b[0m\u001b[0m\n\u001b[1;32m      4\u001b[0m \u001b[0moutputs\u001b[0m \u001b[0;34m=\u001b[0m \u001b[0mlayers\u001b[0m\u001b[0;34m.\u001b[0m\u001b[0mDense\u001b[0m\u001b[0;34m(\u001b[0m\u001b[0;36m10\u001b[0m\u001b[0;34m,\u001b[0m \u001b[0mactivation\u001b[0m\u001b[0;34m=\u001b[0m\u001b[0;34m'softmax'\u001b[0m\u001b[0;34m)\u001b[0m\u001b[0;34m(\u001b[0m\u001b[0mx\u001b[0m\u001b[0;34m)\u001b[0m\u001b[0;34m\u001b[0m\u001b[0;34m\u001b[0m\u001b[0m\n\u001b[1;32m      5\u001b[0m \u001b[0;34m\u001b[0m\u001b[0m\n",
            "\u001b[0;31mNameError\u001b[0m: name 'tf' is not defined"
          ]
        }
      ]
    },
    {
      "cell_type": "markdown",
      "source": [
        "**Extract Features After Fine-tuning from intermediate Dense layer**"
      ],
      "metadata": {
        "id": "snygbXTWYVi1"
      }
    },
    {
      "cell_type": "code",
      "source": [
        "feature_extractor_after = Model(inputs=model.input, outputs=model.get_layer(\"features\").output)\n",
        "features_after = feature_extractor_after.predict(x_subset_pp, batch_size=64, verbose=1)"
      ],
      "metadata": {
        "id": "B1DMHGXaYWBg"
      },
      "execution_count": null,
      "outputs": []
    },
    {
      "cell_type": "markdown",
      "source": [
        "**VIsualization and Plots(PCA,t-SNE,UMAP)**"
      ],
      "metadata": {
        "id": "_R8rIHmxYZq1"
      }
    },
    {
      "cell_type": "code",
      "source": [
        "def plot_2d(X_before, y_before, X_after, y_after, title_before, title_after):\n",
        "    plt.figure(figsize=(16, 6))\n",
        "\n",
        "    plt.subplot(1,2,1)\n",
        "    scatter = plt.scatter(X_before[:, 0], X_before[:, 1], c=y_before, cmap='tab10', s=10, alpha=0.8)\n",
        "    plt.legend(*scatter.legend_elements(), title=\"Digits\", loc='best')\n",
        "    plt.title(title_before)\n",
        "\n",
        "    plt.subplot(1,2,2)\n",
        "    scatter = plt.scatter(X_after[:, 0], X_after[:, 1], c=y_after, cmap='tab10', s=10, alpha=0.8)\n",
        "    plt.legend(*scatter.legend_elements(), title=\"Digits\", loc='best')\n",
        "    plt.title(title_after)\n",
        "\n",
        "    plt.grid(True)\n",
        "    plt.show()\n",
        "\n",
        "# PCA\n",
        "pca = PCA(n_components=2)\n",
        "pca_before = pca.fit_transform(features_before)\n",
        "pca_after = pca.fit_transform(features_after)\n",
        "plot_2d(pca_before, y_subset, pca_after, y_subset, \"PCA - Before Transfer Learning\", \"PCA - After Transfer Learning\")\n",
        "\n",
        "\n",
        "# t-SNE\n",
        "tsne = TSNE(n_components=2, perplexity=30, n_iter=1000)\n",
        "tsne_before = tsne.fit_transform(features_before)\n",
        "tsne_after = tsne.fit_transform(features_after)\n",
        "plot_2d(tsne_before, y_subset, tsne_after, y_subset, \"t-SNE - Before Transfer Learning\", \"t-SNE - After Transfer Learning\")\n",
        "\n",
        "# UMAP\n",
        "umap_model = umap.UMAP(n_components=2)\n",
        "umap_before = umap_model.fit_transform(features_before)\n",
        "umap_after = umap_model.fit_transform(features_after)\n",
        "plot_2d(umap_before, y_subset, umap_after, y_subset, \"UMAP - Before Transfer Learning\", \"UMAP - After Transfer Learning\")"
      ],
      "metadata": {
        "id": "ALQBFlAIYdu0"
      },
      "execution_count": null,
      "outputs": []
    }
  ]
}